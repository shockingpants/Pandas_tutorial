{
  "cells": [
    {
      "cell_type": "code",
      "source": [
        "#!/usr/bin/env python\n",
        "\"\"\" 10min pandas tutorial\n",
        "\n",
        "Introduction\n",
        "=============\n",
        "This tutorial introduces the user to **Pandas** usage. Additionally, the code is \n",
        "written in Markup language syntax so that we can generate documentation for the \n",
        "script with Sphinx automatically. There will also be a few examples to \n",
        "demonstrate how ipynb notebooks can be generated and uploaded. Lastly, the code\n",
        "will be uploaded to github to demonstrate the process of version control and \n",
        "file/documentation sharing. Links to the guides can be found in the \n",
        ":ref:`resource` section.\n",
        "\n",
        "\n",
        ".. _resource:\n",
        "Resources\n",
        "=========\n",
        "Links to online guides to materials dicussed in this tutorial can be found below\n",
        "`Pandas Guide<https://pandas.pydata.org/pandas-docs/stable/getting_started/10min.html>`_\\\n",
        "`Sphinx Markup Guide<https://thomas-cokelaer.info/tutorials/sphinx/rest_syntax.html#text-formatting>`_\n",
        "\n",
        "\"\"\"\n",
        "print('Hello World')"
      ],
      "outputs": [],
      "execution_count": null,
      "metadata": {
        "collapsed": false,
        "outputHidden": false,
        "inputHidden": false
      }
    }
  ],
  "metadata": {
    "kernelspec": {
      "argv": [
        "python",
        "-m",
        "ipykernel_launcher",
        "-f",
        "{connection_file}"
      ],
      "display_name": "Python 3",
      "language": "python",
      "name": "python3"
    }
  },
  "nbformat": 4,
  "nbformat_minor": 0
}